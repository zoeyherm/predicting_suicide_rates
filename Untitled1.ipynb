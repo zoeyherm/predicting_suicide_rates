{
 "cells": [
  {
   "cell_type": "code",
   "execution_count": 6,
   "metadata": {},
   "outputs": [],
   "source": [
    "from __future__ import print_function, division\n",
    "\n",
    "\n",
    "import requests\n",
    "import sys\n",
    "from bs4 import BeautifulSoup\n",
    "from fake_useragent import UserAgent\n",
    "\n",
    "from selenium import webdriver\n",
    "from selenium.webdriver.common.keys import Keys\n",
    "import time\n",
    "\n",
    "import chromedriver_binary\n",
    "\n",
    "requests.__path__\n",
    "\n",
    "\n",
    "import pandas as pd\n",
    "import numpy as np\n",
    "\n",
    "import math\n",
    "import requests\n",
    "import pickle\n",
    "import random\n",
    "import time\n",
    "from collections import defaultdict"
   ]
  },
  {
   "cell_type": "code",
   "execution_count": 7,
   "metadata": {},
   "outputs": [
    {
     "name": "stdout",
     "output_type": "stream",
     "text": [
      "<class 'pandas.core.frame.DataFrame'>\n",
      "Int64Index: 527 entries, 1 to 3129\n",
      "Data columns (total 30 columns):\n",
      "County_x                              527 non-null object\n",
      "County_code                           527 non-null float64\n",
      "rate                                  527 non-null float64\n",
      "State_x                               527 non-null object\n",
      "% Fair/Poor Health                    527 non-null int64\n",
      "% LBW                                 527 non-null float64\n",
      "% Smokers                             527 non-null int64\n",
      "% Obese                               527 non-null int64\n",
      "Food Environment Index                527 non-null float64\n",
      "% Physically Inactive                 527 non-null int64\n",
      "% Excessive Drinking                  527 non-null int64\n",
      "% driving deaths Alcohol-Impaired     527 non-null float64\n",
      "Teen Birth Rate                       527 non-null float64\n",
      "% Uninsured                           527 non-null float64\n",
      "PCP Ratio                             527 non-null float64\n",
      "Dentist Ratio                         527 non-null float64\n",
      "MHP Ratio                             527 non-null float64\n",
      "Preventable Hosp. Rate                527 non-null float64\n",
      "Graduation Rate                       527 non-null float64\n",
      "% Some College                        527 non-null int64\n",
      "% Unemployed                          527 non-null float64\n",
      "% Children in Poverty                 527 non-null float64\n",
      "Income Ratio inequality               527 non-null float64\n",
      "% Single-Parent Households            527 non-null float64\n",
      "Association Rate                      527 non-null float64\n",
      "Violent Crime Rate                    527 non-null float64\n",
      "Average Daily PM2.5                   527 non-null float64\n",
      "% Severe Housing Problems             527 non-null int64\n",
      "% Long Commute - Drives Alone         527 non-null int64\n",
      "% With Access eng 1                   527 non-null float64\n",
      "dtypes: float64(20), int64(8), object(2)\n",
      "memory usage: 127.6+ KB\n"
     ]
    }
   ],
   "source": [
    "with open('suicide1.pickle', 'rb') as read_file:\n",
    "    df = pickle.load(read_file)\n",
    "df.info()"
   ]
  },
  {
   "cell_type": "code",
   "execution_count": 22,
   "metadata": {},
   "outputs": [],
   "source": [
    "df['County_state'] = df['County_x'] + ' county' + df['State_x']"
   ]
  },
  {
   "cell_type": "code",
   "execution_count": 23,
   "metadata": {},
   "outputs": [
    {
     "data": {
      "text/plain": [
       "1          Baldwin county AL\n",
       "7          Calhoun county AL\n",
       "21         Cullman county AL\n",
       "24          DeKalb county AL\n",
       "36       Jefferson county AL\n",
       "                ...         \n",
       "3111    Washington county WI\n",
       "3112      Waukesha county WI\n",
       "3115     Winnebago county WI\n",
       "3127       Laramie county WY\n",
       "3129       Natrona county WY\n",
       "Name: County_state, Length: 527, dtype: object"
      ]
     },
     "execution_count": 23,
     "metadata": {},
     "output_type": "execute_result"
    }
   ],
   "source": [
    "df['County_state']"
   ]
  },
  {
   "cell_type": "code",
   "execution_count": 10,
   "metadata": {},
   "outputs": [],
   "source": [
    "ua = UserAgent()\n",
    "user_agent = {'User-agent': ua.random}"
   ]
  },
  {
   "cell_type": "code",
   "execution_count": 24,
   "metadata": {},
   "outputs": [],
   "source": [
    "cost_list = []\n",
    "area_list = []\n",
    "\n",
    "county_list = df['County_state'].tolist()"
   ]
  },
  {
   "cell_type": "code",
   "execution_count": 27,
   "metadata": {},
   "outputs": [
    {
     "name": "stdout",
     "output_type": "stream",
     "text": [
      "$84,406 Baldwin County, AL Baldwin county AL\n",
      "$73,635 Calhoun County, AL Calhoun county AL\n",
      "$69,225 Cullman County, AL Cullman county AL\n",
      "$73,081 DeKalb County, AL DeKalb county AL\n",
      "••• ••• Jefferson county AL\n",
      "$81,534 Lee County, AL Lee county AL\n",
      "$79,014 Madison County, AL Madison county AL\n",
      "$80,555 Mobile County, AL Mobile county AL\n",
      "$84,088 Autauga County, AL Montgomery county AL\n",
      "$74,171 Morgan County, AL Morgan county AL\n",
      "$89,433 Shelby County, AL Shelby county AL\n",
      "$69,307 Hale County, AL Tuscaloosa county AL\n",
      "$74,219 Walker County metro area Walker county AL\n",
      "$79,445 Apache County, AZ Apache county AZ\n",
      "$83,037 Cochise County, AZ Cochise county AZ\n",
      "$95,675 Coconino County, AZ Coconino county AZ\n",
      "••• ••• Gila county AZ\n",
      "$91,045 Maricopa County, AZ Maricopa county AZ\n",
      "$83,656 Mohave County, AZ Mohave county AZ\n"
     ]
    },
    {
     "ename": "KeyboardInterrupt",
     "evalue": "",
     "output_type": "error",
     "traceback": [
      "\u001b[0;31m---------------------------------------------------------------------------\u001b[0m",
      "\u001b[0;31mKeyboardInterrupt\u001b[0m                         Traceback (most recent call last)",
      "\u001b[0;32m<ipython-input-27-514d2b3973c2>\u001b[0m in \u001b[0;36m<module>\u001b[0;34m\u001b[0m\n\u001b[1;32m     10\u001b[0m     \u001b[0mquery\u001b[0m\u001b[0;34m.\u001b[0m\u001b[0msend_keys\u001b[0m\u001b[0;34m(\u001b[0m\u001b[0;34mu'\\ue007'\u001b[0m\u001b[0;34m)\u001b[0m\u001b[0;34m\u001b[0m\u001b[0;34m\u001b[0m\u001b[0m\n\u001b[1;32m     11\u001b[0m \u001b[0;34m\u001b[0m\u001b[0m\n\u001b[0;32m---> 12\u001b[0;31m     \u001b[0mtime\u001b[0m\u001b[0;34m.\u001b[0m\u001b[0msleep\u001b[0m\u001b[0;34m(\u001b[0m\u001b[0;36m10\u001b[0m\u001b[0;34m)\u001b[0m\u001b[0;34m\u001b[0m\u001b[0;34m\u001b[0m\u001b[0m\n\u001b[0m\u001b[1;32m     13\u001b[0m \u001b[0;34m\u001b[0m\u001b[0m\n\u001b[1;32m     14\u001b[0m     \u001b[0mvar\u001b[0m \u001b[0;34m=\u001b[0m \u001b[0;34m'//*[@id=\"wrap\"]/div/div[2]/div/div[2]/div[2]/div[1]/table/tbody/tr[26]/td[2]/span'\u001b[0m\u001b[0;34m\u001b[0m\u001b[0;34m\u001b[0m\u001b[0m\n",
      "\u001b[0;31mKeyboardInterrupt\u001b[0m: "
     ]
    }
   ],
   "source": [
    "for county in county_list:\n",
    "    url = \"https://www.epi.org/resources/budget/\"\n",
    "    driver = webdriver.Chrome()\n",
    "    driver.get(url)\n",
    "    newvar = '//*[@id=\"wrap\"]/div/div[2]/div/div[2]/div[1]/div/div[1]/div[1]/input'\n",
    "    query = driver.find_element_by_xpath(newvar)\n",
    "    query.send_keys(county)\n",
    "    time.sleep(1)\n",
    "\n",
    "    query.send_keys(u'\\ue007')\n",
    "    \n",
    "    time.sleep(10)\n",
    "\n",
    "    var = '//*[@id=\"wrap\"]/div/div[2]/div/div[2]/div[2]/div[1]/table/tbody/tr[26]/td[2]/span'\n",
    "    cost = driver.find_element_by_xpath(var).text\n",
    "    cost_list.append(cost)\n",
    "    var2 = '//*[@id=\"wrap\"]/div/div[2]/div/div[2]/div[2]/div[1]/table/thead/tr/td/div/span[2]'\n",
    "    area = driver.find_element_by_xpath(var2).text\n",
    "    area_list.append(area)\n",
    "    print(cost, area, county)\n",
    "    driver.close()"
   ]
  },
  {
   "cell_type": "code",
   "execution_count": null,
   "metadata": {},
   "outputs": [],
   "source": []
  }
 ],
 "metadata": {
  "kernelspec": {
   "display_name": "Python 3",
   "language": "python",
   "name": "python3"
  },
  "language_info": {
   "codemirror_mode": {
    "name": "ipython",
    "version": 3
   },
   "file_extension": ".py",
   "mimetype": "text/x-python",
   "name": "python",
   "nbconvert_exporter": "python",
   "pygments_lexer": "ipython3",
   "version": "3.7.4"
  }
 },
 "nbformat": 4,
 "nbformat_minor": 4
}
