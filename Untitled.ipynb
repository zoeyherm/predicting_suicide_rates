{
 "cells": [
  {
   "cell_type": "code",
   "execution_count": 1,
   "metadata": {},
   "outputs": [],
   "source": [
    "import pandas as pd\n",
    "import numpy as np\n",
    "import seaborn as sns\n",
    "import statsmodels.api as sm\n",
    "from patsy import dmatrices\n",
    "from statsmodels.stats.outliers_influence import variance_inflation_factor\n",
    "import pickle"
   ]
  },
  {
   "cell_type": "code",
   "execution_count": 4,
   "metadata": {},
   "outputs": [],
   "source": [
    "blsdf = pd.read_csv('BLS_2017_unemployment.csv', header = [1])"
   ]
  },
  {
   "cell_type": "code",
   "execution_count": 5,
   "metadata": {},
   "outputs": [
    {
     "data": {
      "text/html": [
       "<div>\n",
       "<style scoped>\n",
       "    .dataframe tbody tr th:only-of-type {\n",
       "        vertical-align: middle;\n",
       "    }\n",
       "\n",
       "    .dataframe tbody tr th {\n",
       "        vertical-align: top;\n",
       "    }\n",
       "\n",
       "    .dataframe thead th {\n",
       "        text-align: right;\n",
       "    }\n",
       "</style>\n",
       "<table border=\"1\" class=\"dataframe\">\n",
       "  <thead>\n",
       "    <tr style=\"text-align: right;\">\n",
       "      <th></th>\n",
       "      <th>FIPS</th>\n",
       "      <th>Civilian_labor_force_2017</th>\n",
       "      <th>Employed_2017</th>\n",
       "      <th>Unemployed_2017</th>\n",
       "      <th>Unemployment_rate_2017</th>\n",
       "      <th>Median_Household_Income_2017</th>\n",
       "      <th>Med_HH_Income_Percent_of_State_Total_2017</th>\n",
       "    </tr>\n",
       "  </thead>\n",
       "  <tbody>\n",
       "    <tr>\n",
       "      <td>0</td>\n",
       "      <td>1000</td>\n",
       "      <td>2178243.0</td>\n",
       "      <td>2081676.0</td>\n",
       "      <td>96567.0</td>\n",
       "      <td>4.4</td>\n",
       "      <td>$48,193</td>\n",
       "      <td>100.0</td>\n",
       "    </tr>\n",
       "    <tr>\n",
       "      <td>1</td>\n",
       "      <td>1001</td>\n",
       "      <td>25972.0</td>\n",
       "      <td>24958.0</td>\n",
       "      <td>1014.0</td>\n",
       "      <td>3.9</td>\n",
       "      <td>$58,343</td>\n",
       "      <td>121.1</td>\n",
       "    </tr>\n",
       "    <tr>\n",
       "      <td>2</td>\n",
       "      <td>1003</td>\n",
       "      <td>92090.0</td>\n",
       "      <td>88342.0</td>\n",
       "      <td>3748.0</td>\n",
       "      <td>4.1</td>\n",
       "      <td>$56,607</td>\n",
       "      <td>117.5</td>\n",
       "    </tr>\n",
       "    <tr>\n",
       "      <td>3</td>\n",
       "      <td>1005</td>\n",
       "      <td>8317.0</td>\n",
       "      <td>7831.0</td>\n",
       "      <td>486.0</td>\n",
       "      <td>5.8</td>\n",
       "      <td>$32,490</td>\n",
       "      <td>67.4</td>\n",
       "    </tr>\n",
       "    <tr>\n",
       "      <td>4</td>\n",
       "      <td>1007</td>\n",
       "      <td>8550.0</td>\n",
       "      <td>8174.0</td>\n",
       "      <td>376.0</td>\n",
       "      <td>4.4</td>\n",
       "      <td>$45,795</td>\n",
       "      <td>95.0</td>\n",
       "    </tr>\n",
       "  </tbody>\n",
       "</table>\n",
       "</div>"
      ],
      "text/plain": [
       "   FIPS  Civilian_labor_force_2017  Employed_2017  Unemployed_2017  \\\n",
       "0  1000                  2178243.0      2081676.0          96567.0   \n",
       "1  1001                    25972.0        24958.0           1014.0   \n",
       "2  1003                    92090.0        88342.0           3748.0   \n",
       "3  1005                     8317.0         7831.0            486.0   \n",
       "4  1007                     8550.0         8174.0            376.0   \n",
       "\n",
       "   Unemployment_rate_2017 Median_Household_Income_2017  \\\n",
       "0                     4.4                      $48,193   \n",
       "1                     3.9                      $58,343   \n",
       "2                     4.1                      $56,607   \n",
       "3                     5.8                      $32,490   \n",
       "4                     4.4                      $45,795   \n",
       "\n",
       "   Med_HH_Income_Percent_of_State_Total_2017  \n",
       "0                                      100.0  \n",
       "1                                      121.1  \n",
       "2                                      117.5  \n",
       "3                                       67.4  \n",
       "4                                       95.0  "
      ]
     },
     "execution_count": 5,
     "metadata": {},
     "output_type": "execute_result"
    }
   ],
   "source": [
    "blsdf.head()"
   ]
  },
  {
   "cell_type": "code",
   "execution_count": 6,
   "metadata": {},
   "outputs": [],
   "source": [
    "blsdf = blsdf[['FIPS', 'Unemployment_rate_2017', 'Median_Household_Income_2017']]"
   ]
  },
  {
   "cell_type": "code",
   "execution_count": 7,
   "metadata": {},
   "outputs": [],
   "source": [
    "blsdf = blsdf.rename(columns = {'FIPS': 'County_code'})"
   ]
  },
  {
   "cell_type": "code",
   "execution_count": 9,
   "metadata": {},
   "outputs": [
    {
     "name": "stdout",
     "output_type": "stream",
     "text": [
      "<class 'pandas.core.frame.DataFrame'>\n",
      "RangeIndex: 3274 entries, 0 to 3273\n",
      "Data columns (total 3 columns):\n",
      "County_code                     3274 non-null int64\n",
      "Unemployment_rate_2017          3271 non-null float64\n",
      "Median_Household_Income_2017    3192 non-null object\n",
      "dtypes: float64(1), int64(1), object(1)\n",
      "memory usage: 76.9+ KB\n"
     ]
    }
   ],
   "source": [
    "blsdf.info()"
   ]
  },
  {
   "cell_type": "code",
   "execution_count": 12,
   "metadata": {},
   "outputs": [],
   "source": [
    "blsdf['Median_Household_Income_2017'] = blsdf['Median_Household_Income_2017'].str.replace(',', '')"
   ]
  },
  {
   "cell_type": "code",
   "execution_count": 13,
   "metadata": {},
   "outputs": [],
   "source": [
    "blsdf['Median_Household_Income_2017'] = blsdf['Median_Household_Income_2017'].str.replace('$', '')"
   ]
  },
  {
   "cell_type": "code",
   "execution_count": 14,
   "metadata": {},
   "outputs": [],
   "source": [
    "blsdf['Median_Household_Income_2017'] = pd.to_numeric(blsdf['Median_Household_Income_2017'])"
   ]
  },
  {
   "cell_type": "code",
   "execution_count": 15,
   "metadata": {},
   "outputs": [
    {
     "name": "stdout",
     "output_type": "stream",
     "text": [
      "<class 'pandas.core.frame.DataFrame'>\n",
      "RangeIndex: 3274 entries, 0 to 3273\n",
      "Data columns (total 3 columns):\n",
      "County_code                     3274 non-null int64\n",
      "Unemployment_rate_2017          3271 non-null float64\n",
      "Median_Household_Income_2017    3192 non-null float64\n",
      "dtypes: float64(2), int64(1)\n",
      "memory usage: 76.9 KB\n"
     ]
    }
   ],
   "source": [
    "blsdf.info()"
   ]
  },
  {
   "cell_type": "code",
   "execution_count": 16,
   "metadata": {},
   "outputs": [],
   "source": [
    "blsdf = blsdf.rename(columns = {'Median_Household_Income_2017': 'med_house_income'})"
   ]
  },
  {
   "cell_type": "code",
   "execution_count": 17,
   "metadata": {},
   "outputs": [
    {
     "name": "stdout",
     "output_type": "stream",
     "text": [
      "<class 'pandas.core.frame.DataFrame'>\n",
      "RangeIndex: 3274 entries, 0 to 3273\n",
      "Data columns (total 3 columns):\n",
      "County_code               3274 non-null int64\n",
      "Unemployment_rate_2017    3271 non-null float64\n",
      "med_house_income          3192 non-null float64\n",
      "dtypes: float64(2), int64(1)\n",
      "memory usage: 76.9 KB\n"
     ]
    }
   ],
   "source": [
    "blsdf.info()"
   ]
  },
  {
   "cell_type": "code",
   "execution_count": 18,
   "metadata": {},
   "outputs": [],
   "source": [
    "with open('blsdf.pickle', 'wb') as to_write:\n",
    "    pickle.dump(blsdf, to_write)"
   ]
  },
  {
   "cell_type": "code",
   "execution_count": null,
   "metadata": {},
   "outputs": [],
   "source": []
  }
 ],
 "metadata": {
  "kernelspec": {
   "display_name": "Python 3",
   "language": "python",
   "name": "python3"
  },
  "language_info": {
   "codemirror_mode": {
    "name": "ipython",
    "version": 3
   },
   "file_extension": ".py",
   "mimetype": "text/x-python",
   "name": "python",
   "nbconvert_exporter": "python",
   "pygments_lexer": "ipython3",
   "version": "3.7.4"
  }
 },
 "nbformat": 4,
 "nbformat_minor": 4
}
